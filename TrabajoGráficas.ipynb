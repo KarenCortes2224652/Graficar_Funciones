{
  "nbformat": 4,
  "nbformat_minor": 0,
  "metadata": {
    "colab": {
      "provenance": [],
      "authorship_tag": "ABX9TyPZUNKq0TCOwK+x7nSaILu0",
      "include_colab_link": true
    },
    "kernelspec": {
      "name": "python3",
      "display_name": "Python 3"
    },
    "language_info": {
      "name": "python"
    }
  },
  "cells": [
    {
      "cell_type": "markdown",
      "metadata": {
        "id": "view-in-github",
        "colab_type": "text"
      },
      "source": [
        "<a href=\"https://colab.research.google.com/github/KarenCortes2224652/Graficar_Funciones/blob/main/TrabajoGr%C3%A1ficas.ipynb\" target=\"_parent\"><img src=\"https://colab.research.google.com/assets/colab-badge.svg\" alt=\"Open In Colab\"/></a>"
      ]
    },
    {
      "cell_type": "code",
      "execution_count": null,
      "metadata": {
        "id": "uRpG16bNH6WO"
      },
      "outputs": [],
      "source": [
        "# Gráficas\n",
        "\n",
        "from math import log\n",
        "print(\"-------------------------\")\n",
        "print(\"--- BIENVENIDO AL GRAFICADOR  ---\")\n",
        "print(\"-------------------------\")\n",
        "\n",
        "#Input\n",
        "bandera = False\n",
        "x = float(input(\"Dame el valor del número x: \"))\n",
        "y = float(input(\"Dame el valor del número y: \"))\n",
        "\n",
        "print(\"\\n Dame la opción que deseas realizar: \\n\")\n",
        "# Se despliega el menú para seleccionar la opción que deseas realizar\n",
        "print(\"1.Sumar(El primero más el segundo)\")\n",
        "print(\"2.Restar(El primero menos el segundo)\")\n",
        "print(\"3.Multiplicar(El primero por el segundo)\")\n",
        "print(\"4.Dividir(El primero entre el segundo)\")\n",
        "print(\"5.Potencia (El primero a la potencia de el segundo)\")\n",
        "print(\"6.Logaritmo (El logaritmo de el primero)\")\n",
        "\n",
        "opcion = int(input(\"\\nDame la opción: \"))\n",
        "\n",
        "#Processing\n",
        "if(opcion==1):\n",
        "    z= x + y\n",
        "    print(x,\"+\",y)\n",
        "elif (opcion==2):\n",
        "    z = x - y\n",
        "    print(x,\"-\",y)\n",
        "elif(opcion==3):\n",
        "    z = x * y\n",
        "    print(x,\"X\",y)\n",
        "elif (opcion==4 and y!=0):\n",
        "    z = x / y\n",
        "    print(x,\"/\",y)\n",
        "elif(opcion==4 and y==0):\n",
        "    print(\"El denominador es igial a cero y\")\n",
        "    print(\"NO se puede realizar la division.\")\n",
        "    bandera= True\n",
        "elif (opcion==5):\n",
        "    z = pow(x,y)\n",
        "    print(x,\"^\",y)\n",
        "elif(opcion==6 and x>0):\n",
        "    z=log(x)\n",
        "    print(\"Logaritmo de\",x)\n",
        "elif(opcion==6 and x<=0):\n",
        "    print(\"El valor de x es <= a cero y\")\n",
        "    print(\"NO se puede calcular el logaritmo. \")\n",
        "else:\n",
        "    print(\"opción no valida \")\n",
        "\n",
        "    # Se escribe el resultado con otra condicion \n",
        "if(opcion<7 and bandera==False):\n",
        "        print(\"Resultado =\",z)\n",
        "\n",
        "#Fin"
      ]
    }
  ]
}